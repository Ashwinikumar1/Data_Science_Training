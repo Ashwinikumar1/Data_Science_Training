{
 "cells": [
  {
   "cell_type": "markdown",
   "metadata": {
    "_cell_guid": "b1076dfc-b9ad-4769-8c92-a6c4dae69d19",
    "_uuid": "8f2839f25d086af736a60e9eeb907d3b93b6e0e5"
   },
   "source": [
    "#  Linear Regression\n"
   ]
  },
  {
   "cell_type": "markdown",
   "metadata": {},
   "source": [
    "# Linear Regression Basics"
   ]
  },
  {
   "cell_type": "markdown",
   "metadata": {},
   "source": [
    "\n",
    "Linear regression is a predictive modeling technique for predicting a numeric response variable based on one or more explanatory variables. The term \"regression\" in predictive modeling generally refers to any modeling task that involves predicting a real number (as opposed classification, which involves predicting a category or class.). The term \"linear\" in the name linear regression refers to the fact that the method models data with linear combination of the explanatory variables. A linear combination is an expression where one or more variables are scaled by a constant factor and added together. In the case of linear regression with a single explanatory variable, the linear combination used in linear regression can be expressed as:\n",
    "\n",
    "response = intercept + constant ∗ explanatory\n",
    "\n",
    "The right side if the equation defines a line with a certain y-intercept and slope times the explanatory variable. In other words, linear regression in its most basic form fits a straight line to the response variable. The model is designed to fit a line that minimizes the squared differences (also called errors or residuals.). We won't go into all the math behind how the model actually minimizes the squared errors, but the end result is a line intended to give the \"best fit\" to the data. Since linear regression fits data with a line, it is most effective in cases where the response and explanatory variable have a linear relationship.\n",
    "\n",
    "Let's revisit the mtcars data set and use linear regression to predict vehicle gas mileage based on vehicle weight. First, let's load some libraries and look at a scatterplot of weight and mpg to get a sense of the shape of the data:"
   ]
  },
  {
   "cell_type": "code",
   "execution_count": 1,
   "metadata": {},
   "outputs": [],
   "source": [
    "%matplotlib inline\n",
    "\n",
    "import numpy as np\n",
    "import pandas as pd\n",
    "import matplotlib\n",
    "import matplotlib.pyplot as plt\n",
    "import scipy.stats as stats\n",
    "matplotlib.style.use('ggplot')"
   ]
  },
  {
   "cell_type": "code",
   "execution_count": 2,
   "metadata": {},
   "outputs": [
    {
     "data": {
      "text/html": [
       "<div>\n",
       "<style scoped>\n",
       "    .dataframe tbody tr th:only-of-type {\n",
       "        vertical-align: middle;\n",
       "    }\n",
       "\n",
       "    .dataframe tbody tr th {\n",
       "        vertical-align: top;\n",
       "    }\n",
       "\n",
       "    .dataframe thead th {\n",
       "        text-align: right;\n",
       "    }\n",
       "</style>\n",
       "<table border=\"1\" class=\"dataframe\">\n",
       "  <thead>\n",
       "    <tr style=\"text-align: right;\">\n",
       "      <th></th>\n",
       "      <th>model</th>\n",
       "      <th>mpg</th>\n",
       "      <th>cyl</th>\n",
       "      <th>disp</th>\n",
       "      <th>hp</th>\n",
       "      <th>drat</th>\n",
       "      <th>wt</th>\n",
       "      <th>qsec</th>\n",
       "      <th>vs</th>\n",
       "      <th>am</th>\n",
       "      <th>gear</th>\n",
       "      <th>carb</th>\n",
       "    </tr>\n",
       "  </thead>\n",
       "  <tbody>\n",
       "    <tr>\n",
       "      <th>0</th>\n",
       "      <td>Mazda RX4</td>\n",
       "      <td>21.0</td>\n",
       "      <td>6</td>\n",
       "      <td>160.0</td>\n",
       "      <td>110</td>\n",
       "      <td>3.90</td>\n",
       "      <td>2.620</td>\n",
       "      <td>16.46</td>\n",
       "      <td>0</td>\n",
       "      <td>1</td>\n",
       "      <td>4</td>\n",
       "      <td>4</td>\n",
       "    </tr>\n",
       "    <tr>\n",
       "      <th>1</th>\n",
       "      <td>Mazda RX4 Wag</td>\n",
       "      <td>21.0</td>\n",
       "      <td>6</td>\n",
       "      <td>160.0</td>\n",
       "      <td>110</td>\n",
       "      <td>3.90</td>\n",
       "      <td>2.875</td>\n",
       "      <td>17.02</td>\n",
       "      <td>0</td>\n",
       "      <td>1</td>\n",
       "      <td>4</td>\n",
       "      <td>4</td>\n",
       "    </tr>\n",
       "    <tr>\n",
       "      <th>2</th>\n",
       "      <td>Datsun 710</td>\n",
       "      <td>22.8</td>\n",
       "      <td>4</td>\n",
       "      <td>108.0</td>\n",
       "      <td>93</td>\n",
       "      <td>3.85</td>\n",
       "      <td>2.320</td>\n",
       "      <td>18.61</td>\n",
       "      <td>1</td>\n",
       "      <td>1</td>\n",
       "      <td>4</td>\n",
       "      <td>1</td>\n",
       "    </tr>\n",
       "    <tr>\n",
       "      <th>3</th>\n",
       "      <td>Hornet 4 Drive</td>\n",
       "      <td>21.4</td>\n",
       "      <td>6</td>\n",
       "      <td>258.0</td>\n",
       "      <td>110</td>\n",
       "      <td>3.08</td>\n",
       "      <td>3.215</td>\n",
       "      <td>19.44</td>\n",
       "      <td>1</td>\n",
       "      <td>0</td>\n",
       "      <td>3</td>\n",
       "      <td>1</td>\n",
       "    </tr>\n",
       "    <tr>\n",
       "      <th>4</th>\n",
       "      <td>Hornet Sportabout</td>\n",
       "      <td>18.7</td>\n",
       "      <td>8</td>\n",
       "      <td>360.0</td>\n",
       "      <td>175</td>\n",
       "      <td>3.15</td>\n",
       "      <td>3.440</td>\n",
       "      <td>17.02</td>\n",
       "      <td>0</td>\n",
       "      <td>0</td>\n",
       "      <td>3</td>\n",
       "      <td>2</td>\n",
       "    </tr>\n",
       "  </tbody>\n",
       "</table>\n",
       "</div>"
      ],
      "text/plain": [
       "               model   mpg  cyl   disp   hp  drat     wt   qsec  vs  am  gear  \\\n",
       "0          Mazda RX4  21.0    6  160.0  110  3.90  2.620  16.46   0   1     4   \n",
       "1      Mazda RX4 Wag  21.0    6  160.0  110  3.90  2.875  17.02   0   1     4   \n",
       "2         Datsun 710  22.8    4  108.0   93  3.85  2.320  18.61   1   1     4   \n",
       "3     Hornet 4 Drive  21.4    6  258.0  110  3.08  3.215  19.44   1   0     3   \n",
       "4  Hornet Sportabout  18.7    8  360.0  175  3.15  3.440  17.02   0   0     3   \n",
       "\n",
       "   carb  \n",
       "0     4  \n",
       "1     4  \n",
       "2     1  \n",
       "3     1  \n",
       "4     2  "
      ]
     },
     "execution_count": 2,
     "metadata": {},
     "output_type": "execute_result"
    }
   ],
   "source": [
    "# Load mtcars data set\n",
    "mtcars = pd.read_csv(\"mtcars.csv\")\n",
    "mtcars.head()"
   ]
  },
  {
   "cell_type": "code",
   "execution_count": 3,
   "metadata": {},
   "outputs": [
    {
     "data": {
      "image/png": "[encoded data removed]",
      "text/plain": [
       "<Figure size 648x648 with 1 Axes>"
      ]
     },
     "metadata": {},
     "output_type": "display_data"
    }
   ],
   "source": [
    "\n",
    "mtcars.plot(kind=\"scatter\",\n",
    "           x=\"wt\",\n",
    "           y=\"mpg\",\n",
    "           figsize=(9,9),\n",
    "           color=\"black\");"
   ]
  },
  {
   "cell_type": "markdown",
   "metadata": {},
   "source": [
    "The scatterplot shows a roughly linear relationship between weight and mpg, suggesting a linear regression model might work well.\n",
    "\n",
    "Python's scikit-learn library contains a wide range of functions for predictive modeling. Let's load its linear regression training function and fit a line to the mtcars data:"
   ]
  },
  {
   "cell_type": "code",
   "execution_count": 4,
   "metadata": {},
   "outputs": [],
   "source": [
    "from sklearn import linear_model"
   ]
  },
  {
   "cell_type": "code",
   "execution_count": null,
   "metadata": {},
   "outputs": [],
   "source": [
    "mpg = coeff * wt + intercept"
   ]
  },
  {
   "cell_type": "code",
   "execution_count": 6,
   "metadata": {},
   "outputs": [
    {
     "name": "stdout",
     "output_type": "stream",
     "text": [
      "37.28512616734204\n",
      "[-5.34447157]\n"
     ]
    }
   ],
   "source": [
    "# Initialize model\n",
    "regression_model = linear_model.LinearRegression()\n",
    "\n",
    "# Train the model using the mtcars data\n",
    "regression_model.fit(X = pd.DataFrame(mtcars[\"wt\"]), \n",
    "                     y = mtcars[\"mpg\"])\n",
    "\n",
    "# Check trained model y-intercept\n",
    "print(regression_model.intercept_)\n",
    "\n",
    "# Check trained model coefficients\n",
    "print(regression_model.coef_)"
   ]
  },
  {
   "cell_type": "markdown",
   "metadata": {},
   "source": [
    "The output above shows the model intercept and coefficients used to create the best fit line. In this case the y-intercept term is set to 37.2851 and the coefficient for the weight variable is -5.3445. In other words, the model fit the line: mpg = 37.2851 - 5.3445 * wt.\n",
    "\n",
    "We can get a sense of how much of the variance in the response variable is explained by the model using the model.score() function:"
   ]
  },
  {
   "cell_type": "code",
   "execution_count": 7,
   "metadata": {},
   "outputs": [
    {
     "data": {
      "text/plain": [
       "0.7528327936582646"
      ]
     },
     "execution_count": 7,
     "metadata": {},
     "output_type": "execute_result"
    }
   ],
   "source": [
    "regression_model.score(X = pd.DataFrame(mtcars[\"wt\"]), \n",
    "                       y = mtcars[\"mpg\"])"
   ]
  },
  {
   "cell_type": "markdown",
   "metadata": {},
   "source": [
    "The output of the score function for linear regression is \"R-squared\", a value that ranges from 0 to 1 which describes the proportion of variance in the response variable that is explained by the model. In this case, car weight explains roughly 75% of the variance in mpg.\n",
    "\n",
    "The R-squared measure is based on the residuals: differences between what the model predicts for each data point and the actual value of each data point. We can extract the model's residuals by making a prediction with the model on the data and then subtracting the actual value from each prediction:"
   ]
  },
  {
   "cell_type": "code",
   "execution_count": 10,
   "metadata": {},
   "outputs": [
    {
     "name": "stdout",
     "output_type": "stream",
     "text": [
      "0    -2.282611\n",
      "1    -0.919770\n",
      "2    -2.085952\n",
      "3     1.297350\n",
      "4    -0.200144\n",
      "5    -0.693255\n",
      "6    -3.905363\n",
      "7     4.163738\n",
      "8     2.349959\n",
      "9     0.299856\n",
      "10   -1.100144\n",
      "11    0.866873\n",
      "12   -0.050247\n",
      "13   -1.883024\n",
      "14    1.173350\n",
      "15    2.103288\n",
      "16    5.981074\n",
      "17    6.872711\n",
      "18    1.746195\n",
      "19    6.421979\n",
      "20   -2.611004\n",
      "21   -2.972586\n",
      "22   -3.726866\n",
      "23   -3.462355\n",
      "24    2.464367\n",
      "25    0.356426\n",
      "26    0.152043\n",
      "27    1.201059\n",
      "28   -4.543151\n",
      "29   -2.780940\n",
      "30   -3.205363\n",
      "31   -1.027495\n",
      "Name: mpg, dtype: float64\n"
     ]
    },
    {
     "data": {
      "text/plain": [
       "count    3.200000e+01\n",
       "mean    -8.326673e-15\n",
       "std      2.996352e+00\n",
       "min     -4.543151e+00\n",
       "25%     -2.364709e+00\n",
       "50%     -1.251956e-01\n",
       "75%      1.409561e+00\n",
       "max      6.872711e+00\n",
       "Name: mpg, dtype: float64"
      ]
     },
     "execution_count": 10,
     "metadata": {},
     "output_type": "execute_result"
    }
   ],
   "source": [
    "train_prediction = regression_model.predict(X = pd.DataFrame(mtcars[\"wt\"]))\n",
    "\n",
    "# Actual - prediction = residuals\n",
    "residuals = mtcars[\"mpg\"] - train_prediction\n",
    "\n",
    "print (residuals)\n",
    "residuals.describe()\n"
   ]
  },
  {
   "cell_type": "markdown",
   "metadata": {},
   "source": [
    "R-squared is calculated as 1 - (SSResiduals/SSTotal) were SSResiduals is the sum of the squares of the model residuals and SSTotal is the sum of the squares of the difference between each data point and the mean of the data. We could calculate R-squared by hand like this:"
   ]
  },
  {
   "cell_type": "code",
   "execution_count": 12,
   "metadata": {},
   "outputs": [
    {
     "data": {
      "text/plain": [
       "0.7528327936582646"
      ]
     },
     "execution_count": 12,
     "metadata": {},
     "output_type": "execute_result"
    }
   ],
   "source": [
    "SSResiduals = (residuals**2).sum()\n",
    "\n",
    "SSTotal = ((mtcars[\"mpg\"] - mtcars[\"mpg\"].mean())**2).sum()\n",
    "\n",
    "# R-squared\n",
    "1 - (SSResiduals/SSTotal)"
   ]
  },
  {
   "cell_type": "markdown",
   "metadata": {},
   "source": [
    "Now that we have a linear model, let's plot the line it fits on our scatterplot to get a sense of how well it fits the data:"
   ]
  },
  {
   "cell_type": "code",
   "execution_count": 13,
   "metadata": {},
   "outputs": [
    {
     "data": {
      "image/png": "[encoded data removed]",
      "text/plain": [
       "<Figure size 648x648 with 1 Axes>"
      ]
     },
     "metadata": {},
     "output_type": "display_data"
    }
   ],
   "source": [
    "\n",
    "mtcars.plot(kind=\"scatter\",\n",
    "           x=\"wt\",\n",
    "           y=\"mpg\",\n",
    "           figsize=(9,9),\n",
    "           color=\"black\",\n",
    "           xlim = (0,7))\n",
    "\n",
    "# Plot regression line\n",
    "plt.plot(mtcars[\"wt\"],      # Explanitory variable\n",
    "         train_prediction,  # Predicted values\n",
    "         color=\"blue\");"
   ]
  },
  {
   "cell_type": "markdown",
   "metadata": {},
   "source": [
    "The regression line looks like a reasonable fit and it follows our intuition: as car weight increases we would expect fuel economy to decline.\n",
    "\n",
    "Outliers can have a large influence on linear regression models: since regression deals with minimizing squared residuals, large residuals have a disproportionately large influence on the model. Plotting the result helps us detect influential outliers. In this case there does not appear to be any influential outliers. Let's add an outlier--a super heavy fuel efficient car--and plot a new regression model:"
   ]
  },
  {
   "cell_type": "code",
   "execution_count": 14,
   "metadata": {},
   "outputs": [
    {
     "data": {
      "image/png": "[encoded data removed]",
      "text/plain": [
       "<Figure size 648x648 with 1 Axes>"
      ]
     },
     "metadata": {},
     "output_type": "display_data"
    }
   ],
   "source": [
    "mtcars_subset = mtcars[[\"mpg\",\"wt\"]]\n",
    "\n",
    "super_car = pd.DataFrame({\"mpg\":50,\"wt\":10}, index=[\"super\"])\n",
    "\n",
    "new_cars = mtcars_subset.append(super_car)\n",
    "\n",
    "# Initialize model\n",
    "regression_model = linear_model.LinearRegression()\n",
    "\n",
    "# Train the model using the new_cars data\n",
    "regression_model.fit(X = pd.DataFrame(new_cars[\"wt\"]), \n",
    "                     y = new_cars[\"mpg\"])\n",
    "\n",
    "train_prediction2 = regression_model.predict(X = pd.DataFrame(new_cars[\"wt\"]))\n",
    "\n",
    "# Plot the new model\n",
    "new_cars.plot(kind=\"scatter\",\n",
    "           x=\"wt\",\n",
    "           y=\"mpg\",\n",
    "           figsize=(9,9),\n",
    "           color=\"black\", xlim=(1,11), ylim=(10,52))\n",
    "\n",
    "# Plot regression line\n",
    "plt.plot(new_cars[\"wt\"],     # Explanatory variable\n",
    "         train_prediction2,  # Predicted values\n",
    "         color=\"blue\");"
   ]
  },
  {
   "cell_type": "markdown",
   "metadata": {},
   "source": [
    "Although this is an extreme, contrived case, the plot above illustrates how much influence a single outlier can have on a linear regression model.\n",
    "\n",
    "In a well-behaved linear regression model, we'd like the residuals to be roughly normally distributed. That is, we'd like a roughly even spread of error above and below the regression line. We can investigate the normality of residuals with a Q-Q (quantile-quantile) plot. Make a qqplot by passing the residuals to the stats.probplot() function in the scipy.stats library:"
   ]
  },
  {
   "cell_type": "code",
   "execution_count": 16,
   "metadata": {},
   "outputs": [
    {
     "data": {
      "image/png": "[encoded data removed]",
      "text/plain": [
       "<Figure size 648x648 with 1 Axes>"
      ]
     },
     "metadata": {},
     "output_type": "display_data"
    }
   ],
   "source": [
    "plt.figure(figsize=(9,9))\n",
    "\n",
    "stats.probplot(residuals, dist=\"norm\", plot=plt);"
   ]
  },
  {
   "cell_type": "markdown",
   "metadata": {},
   "source": [
    "When residuals are normally distributed, they tend to lie along the straight line on the Q-Q plot. In this case residuals appear to follow a slightly non-linear pattern: the residuals are bowed a bit away from the normality line on each end. This is an indication that simple straight line might not be sufficient to fully describe the relationship between weight and mpg.\n",
    "\n",
    "After making model predictions, it is useful to have some sort of metric to evaluate oh well the model performed. Adjusted R-squared is one useful measure, but it only applies to the regression model itself: we'd like some universal evaluation metric that lets us compare the performance of different types of models. Root mean squared error (RMSE) is a common evaluation metric for predictions involving real numbers. Root mean squared error is square root of the average of the squared error (residuals.). If you recall, we wrote a function to calculate RMSE way back in lesson lesson 12:"
   ]
  },
  {
   "cell_type": "code",
   "execution_count": 18,
   "metadata": {},
   "outputs": [
    {
     "data": {
      "text/plain": [
       "2.949162685955028"
      ]
     },
     "execution_count": 18,
     "metadata": {},
     "output_type": "execute_result"
    }
   ],
   "source": [
    "def rmse(predicted, targets):\n",
    "    \"\"\"\n",
    "    Computes root mean squared error of two numpy ndarrays\n",
    "    \n",
    "    Args:\n",
    "        predicted: an ndarray of predictions\n",
    "        targets: an ndarray of target values\n",
    "    \n",
    "    Returns:\n",
    "        The root mean squared error as a float\n",
    "    \"\"\"\n",
    "    return (np.sqrt(np.mean((targets-predicted)**2)))\n",
    "\n",
    "rmse(train_prediction, mtcars[\"mpg\"])"
   ]
  },
  {
   "cell_type": "markdown",
   "metadata": {},
   "source": [
    "Instead of defining your own RMSE function, you can use the scikit-learn library's mean squared error function and take the square root of the result:"
   ]
  },
  {
   "cell_type": "code",
   "execution_count": 19,
   "metadata": {},
   "outputs": [
    {
     "data": {
      "text/plain": [
       "2.949162685955028"
      ]
     },
     "execution_count": 19,
     "metadata": {},
     "output_type": "execute_result"
    }
   ],
   "source": [
    "from sklearn.metrics import mean_squared_error\n",
    "\n",
    "RMSE = mean_squared_error(train_prediction, mtcars[\"mpg\"])**0.5\n",
    "\n",
    "RMSE"
   ]
  },
  {
   "cell_type": "markdown",
   "metadata": {},
   "source": [
    "# Polynomial Regression"
   ]
  },
  {
   "cell_type": "markdown",
   "metadata": {},
   "source": [
    "Variables often exhibit non-linear relationships that can't be fit well with a straight line. In these cases, we can use linear regression to fit a curved line the data by adding extra higher order terms (squared, cubic, etc.) to the model. A linear regression that involves higher order terms is known as \"polynomial regression.\""
   ]
  },
  {
   "cell_type": "code",
   "execution_count": 21,
   "metadata": {
    "scrolled": true
   },
   "outputs": [
    {
     "name": "stdout",
     "output_type": "stream",
     "text": [
      "Model intercept\n",
      "48.403696227952295\n",
      "Model Coefficients\n",
      "[-11.82597602   0.68937919   0.04593618]\n",
      "Model Accuracy:\n",
      "0.8191284628478992\n"
     ]
    }
   ],
   "source": [
    "# Initialize model\n",
    "poly_model = linear_model.LinearRegression()\n",
    "\n",
    "# Make a DataFrame of predictor variables\n",
    "predictors = pd.DataFrame([mtcars[\"wt\"],           # Include weight\n",
    "                           mtcars[\"wt\"]**2,mtcars[\"wt\"]**3]).T     # Include weight squared\n",
    "\n",
    "# Train the model using the new_cars data\n",
    "poly_model.fit(X = predictors, \n",
    "               y = mtcars[\"mpg\"])\n",
    "\n",
    "# Check trained model y-intercept\n",
    "print(\"Model intercept\")\n",
    "print(poly_model.intercept_)\n",
    "\n",
    "# Check trained model coefficients (scaling factor given to \"wt\")\n",
    "print(\"Model Coefficients\")\n",
    "print(poly_model.coef_)\n",
    "\n",
    "# Check R-squared\n",
    "print(\"Model Accuracy:\")\n",
    "print(poly_model.score(X = predictors, \n",
    "                 y = mtcars[\"mpg\"]))"
   ]
  },
  {
   "cell_type": "markdown",
   "metadata": {},
   "source": [
    "The output shows us that including the weight squared term appears to improve the model's performance because the R-squared increased from 0.75 to 0.8190. It should be noted, however, that adding more variables to a linear regression model can never cause R-squared to decrease, so we only want to add variables if there is a substantial improvement in performance.\n",
    "\n",
    "Let's plot the curved line defined by the new model to see if the fit looks better than the old one. To start off, let's create a function that takes an array of x values, model coefficients and an intercept term and returns the x values and fitted y values corresponding to those x values."
   ]
  },
  {
   "cell_type": "code",
   "execution_count": 23,
   "metadata": {},
   "outputs": [
    {
     "data": {
      "image/png": "[encoded data removed]",
      "text/plain": [
       "<Figure size 648x648 with 1 Axes>"
      ]
     },
     "metadata": {},
     "output_type": "display_data"
    }
   ],
   "source": [
    "# Plot the curve from 1.5 to 5.5\n",
    "poly_line_range = np.arange(1.5, 5.5, 0.1)\n",
    "\n",
    "# Get first and second order predictors from range\n",
    "poly_predictors = pd.DataFrame([poly_line_range,\n",
    "                               poly_line_range**2, poly_line_range**3]).T\n",
    "\n",
    "# Get corresponding y values from the model\n",
    "y_values = poly_model.predict(X = poly_predictors)\n",
    "\n",
    "mtcars.plot(kind=\"scatter\",\n",
    "           x=\"wt\",\n",
    "           y=\"mpg\",\n",
    "           figsize=(9,9),\n",
    "           color=\"black\",\n",
    "           xlim = (0,7))\n",
    "\n",
    "# Plot curve line\n",
    "plt.plot(poly_line_range,   # X-axis range\n",
    "         y_values,          # Predicted values\n",
    "         color=\"blue\");"
   ]
  },
  {
   "cell_type": "markdown",
   "metadata": {},
   "source": [
    "The quadratic function seems to fit the data a little better than the linear one. Let's investigate further by using the new model to make predictions on the original data and check the root mean squared error:"
   ]
  },
  {
   "cell_type": "code",
   "execution_count": 25,
   "metadata": {},
   "outputs": [
    {
     "data": {
      "text/plain": [
       "2.5228325208788434"
      ]
     },
     "execution_count": 25,
     "metadata": {},
     "output_type": "execute_result"
    }
   ],
   "source": [
    "preds = poly_model.predict(X=predictors)\n",
    "\n",
    "rmse(preds , mtcars[\"mpg\"])"
   ]
  },
  {
   "cell_type": "markdown",
   "metadata": {},
   "source": [
    "Since the RMSE of the quadratic model is lower than the old one and the adjusted R-squared is higher, it is probably a better model. We do, however, have to be careful about overfitting the training data.\n",
    "\n",
    "Overfitting describes a situation where our model fits the data we use to create it (training data) too closely, resulting in poor generalization to new data. This is why we generally don't want to use training data to evaluate a model: it gives us a biased, usually overly optimistic evaluation. One of the strengths of first and second order linear regression is that they are so simple, they are unlikely to overfit data very much. The more complex the model we create and the more freedom it has to fit the training data, the greater risk we run of overfitting. For example, we could keep including more polynomial terms in our regression model to fit the training data more closely and achieve lower RMSE scores against the training set, but this would almost certainly not generalize well to new data. Let's illustrate this point by fitting a 10th order model to the mtcars data:"
   ]
  },
  {
   "cell_type": "code",
   "execution_count": 29,
   "metadata": {},
   "outputs": [
    {
     "name": "stdout",
     "output_type": "stream",
     "text": [
      "Model intercept\n",
      "-14921.12064795494\n",
      "Model Coefficients\n",
      "[ 6.45813583e+04 -1.20086135e+05  1.26931932e+05 -8.46598480e+04\n",
      "  3.73155209e+04 -1.10334758e+04  2.16590409e+03 -2.70730550e+02\n",
      "  1.94974165e+01 -6.15515447e-01]\n"
     ]
    },
    {
     "data": {
      "text/plain": [
       "0.870210658702601"
      ]
     },
     "execution_count": 29,
     "metadata": {},
     "output_type": "execute_result"
    }
   ],
   "source": [
    "# Initialize model\n",
    "poly_model = linear_model.LinearRegression()\n",
    "\n",
    "# Make a DataFrame of predictor variables\n",
    "predictors = pd.DataFrame([mtcars[\"wt\"],           \n",
    "                           mtcars[\"wt\"]**2,\n",
    "                           mtcars[\"wt\"]**3,\n",
    "                           mtcars[\"wt\"]**4,\n",
    "                           mtcars[\"wt\"]**5,\n",
    "                           mtcars[\"wt\"]**6,\n",
    "                           mtcars[\"wt\"]**7,\n",
    "                           mtcars[\"wt\"]**8,\n",
    "                           mtcars[\"wt\"]**9,\n",
    "                           mtcars[\"wt\"]**10]).T     \n",
    "\n",
    "# Train the model using the new_cars data\n",
    "poly_model.fit(X = predictors, \n",
    "               y = mtcars[\"mpg\"])\n",
    "\n",
    "# Check trained model y-intercept\n",
    "print(\"Model intercept\")\n",
    "print(poly_model.intercept_)\n",
    "\n",
    "# Check trained model coefficients (scaling factor given to \"wt\")\n",
    "print(\"Model Coefficients\")\n",
    "print(poly_model.coef_)\n",
    "\n",
    "# Check R-squared\n",
    "poly_model.score(X = predictors, \n",
    "                 y = mtcars[\"mpg\"])"
   ]
  },
  {
   "cell_type": "markdown",
   "metadata": {},
   "source": [
    "Notice the R-squared score has increased substantially from our quadratic model. Let's plot the best fit line to investigate what the model is doing:"
   ]
  },
  {
   "cell_type": "code",
   "execution_count": 30,
   "metadata": {},
   "outputs": [
    {
     "data": {
      "image/png": "[encoded data removed]",
      "text/plain": [
       "<Figure size 648x648 with 1 Axes>"
      ]
     },
     "metadata": {},
     "output_type": "display_data"
    }
   ],
   "source": [
    "p_range = np.arange(1.5, 5.45, 0.01)\n",
    "\n",
    "poly_predictors = pd.DataFrame([p_range, p_range**2, p_range**3,\n",
    "                              p_range**4, p_range**5, p_range**6, p_range**7, \n",
    "                              p_range**8, p_range**9, p_range**10]).T  \n",
    "\n",
    "# Get corresponding y values from the model\n",
    "y_values = poly_model.predict(X = poly_predictors)\n",
    "\n",
    "mtcars.plot(kind=\"scatter\",\n",
    "           x=\"wt\",\n",
    "           y=\"mpg\",\n",
    "           figsize=(9,9),\n",
    "           color=\"black\",\n",
    "           xlim = (0,7))\n",
    "\n",
    "# Plot curve line\n",
    "plt.plot(p_range,   # X-axis range\n",
    "         y_values,          # Predicted values\n",
    "         color=\"blue\");"
   ]
  },
  {
   "cell_type": "markdown",
   "metadata": {},
   "source": [
    " Bias & Variance Trade off in machine learning \n",
    "    \n",
    "    \n",
    "    As you keep on increasing the complexity of you model your performace on test set will keep on icreasing but your performace \n",
    "    on testing data will decarese after a point -- Over fitting\n",
    "    \n",
    "    Overfitting ---- Training Accuracy is more than testing accuracy Overfitted (decreasing the number of variables)\n",
    "    \n",
    "    Underfitting ----- testing accuracy is much more higher than your training accuracy -- underfitting --- Complexity (number of  avriavne)\n",
    "    \n",
    "    "
   ]
  },
  {
   "cell_type": "markdown",
   "metadata": {},
   "source": [
    "Notice how the 10th order polynomial model curves wildly in some places to fit the training data. While this model happens to yield a closer fit to the training data, it will almost certainly fail to generalize well to new data as it leads to absurd predictions such as a car having less than 0 mpg if it weighs 5000lbs."
   ]
  },
  {
   "cell_type": "markdown",
   "metadata": {},
   "source": [
    "# Multiple Linear Regression"
   ]
  },
  {
   "cell_type": "markdown",
   "metadata": {},
   "source": [
    "When faced with a predictive modeling task, you'll often have several variables in your data that may help explain variation in the response variable. You can include more explanatory variables in a linear regression model by including more columns in the data frame you pass to the model training function. Let's make a new model that adds the horsepower variable to our original model:"
   ]
  },
  {
   "cell_type": "code",
   "execution_count": 32,
   "metadata": {},
   "outputs": [
    {
     "name": "stdout",
     "output_type": "stream",
     "text": [
      "37.22727011644721\n",
      "[-3.87783074 -0.03177295]\n"
     ]
    },
    {
     "data": {
      "text/plain": [
       "0.8267854518827914"
      ]
     },
     "execution_count": 32,
     "metadata": {},
     "output_type": "execute_result"
    }
   ],
   "source": [
    "# Initialize model\n",
    "multi_reg_model = linear_model.LinearRegression()\n",
    "\n",
    "# Train the model using the mtcars data\n",
    "multi_reg_model.fit(X = mtcars.loc[:,[\"wt\",\"hp\"]], \n",
    "                     y = mtcars[\"mpg\"])\n",
    "\n",
    "# Check trained model y-intercept\n",
    "print(multi_reg_model.intercept_)\n",
    "\n",
    "# Check trained model coefficients (scaling factor given to \"wt\")\n",
    "print(multi_reg_model.coef_)\n",
    "\n",
    "# Check R-squared\n",
    "multi_reg_model.score(X = mtcars.loc[:,[\"wt\",\"hp\"]], \n",
    "                      y = mtcars[\"mpg\"])"
   ]
  },
  {
   "cell_type": "markdown",
   "metadata": {},
   "source": [
    "The improved R-squared score suggests horsepower has a linear relationship with mpg. Let's investigate with a plot:"
   ]
  },
  {
   "cell_type": "code",
   "execution_count": 33,
   "metadata": {},
   "outputs": [
    {
     "data": {
      "image/png": "[encoded data removed]",
      "text/plain": [
       "<Figure size 648x648 with 1 Axes>"
      ]
     },
     "metadata": {},
     "output_type": "display_data"
    }
   ],
   "source": [
    "mtcars.plot(kind=\"scatter\",\n",
    "           x=\"hp\",\n",
    "           y=\"mpg\",\n",
    "           figsize=(9,9),\n",
    "           color=\"black\");"
   ]
  },
  {
   "cell_type": "markdown",
   "metadata": {},
   "source": [
    "While mpg does tend to decline with horsepower, the relationship appears more curved than linear so adding polynomial terms to our multiple regression model could yield a better fit:"
   ]
  },
  {
   "cell_type": "code",
   "execution_count": 35,
   "metadata": {},
   "outputs": [
    {
     "name": "stdout",
     "output_type": "stream",
     "text": [
      "R-Squared\n",
      "0.8907279549670641\n",
      "RMSE\n",
      "1.9609108134176982\n"
     ]
    }
   ],
   "source": [
    "# Initialize model\n",
    "multi_reg_model = linear_model.LinearRegression()\n",
    "\n",
    "# Include squared terms\n",
    "poly_predictors = pd.DataFrame([mtcars[\"wt\"],\n",
    "                                mtcars[\"hp\"],\n",
    "                                mtcars[\"wt\"]**2,\n",
    "                                mtcars[\"hp\"]**2]).T\n",
    "\n",
    "# Train the model using the mtcars data\n",
    "multi_reg_model.fit(X = poly_predictors, \n",
    "                    y = mtcars[\"mpg\"])\n",
    "\n",
    "# Check R-squared\n",
    "print(\"R-Squared\")\n",
    "print( multi_reg_model.score(X = poly_predictors , \n",
    "                      y = mtcars[\"mpg\"]) )\n",
    "\n",
    "# Check RMSE\n",
    "print(\"RMSE\")\n",
    "print(rmse(multi_reg_model.predict(poly_predictors),mtcars[\"mpg\"]))"
   ]
  },
  {
   "cell_type": "markdown",
   "metadata": {},
   "source": [
    "The new R-squared and lower RMSE suggest this is a better model than any we made previously and we wouldn't be too concerned about overfitting since it only includes 2 variables and 2 squared terms. Note that when working with multidimensional models, it becomes difficult to visualize results, so you rely heavily on numeric output.\n",
    "\n",
    "We could continue adding more explanatory variables in an attempt to improve the model. Adding variables that have little relationship with the response or including variables that are too closely related to one another can hurt your results when using linear regression. You should also be wary of numeric variables that take on few unique values since they can act more like categorical variables than numeric ones."
   ]
  },
  {
   "cell_type": "markdown",
   "metadata": {},
   "source": [
    "# Wrap Up"
   ]
  },
  {
   "cell_type": "markdown",
   "metadata": {},
   "source": [
    "Linear regression is one of the most common techniques for making real numbered predictions from data. It is a good place to start any time you need to make a numeric prediction. Next time we'll revisit the titanic survival data set and focus classification: assigning observations to categories."
   ]
  },
  {
   "cell_type": "code",
   "execution_count": 36,
   "metadata": {},
   "outputs": [],
   "source": [
    "#### Feature selection - Backward feature & forward feature selection\n",
    "#### Regularisation -- how to use  "
   ]
  },
  {
   "cell_type": "code",
   "execution_count": null,
   "metadata": {},
   "outputs": [],
   "source": [
    "Box Plot\n",
    "\n",
    "%percentile \n",
    "\n",
    "Normal Distr"
   ]
  },
  {
   "cell_type": "code",
   "execution_count": null,
   "metadata": {},
   "outputs": [],
   "source": [
    "1 2 4 10 10000 99 % 10  ----- 1 2 4 10 10"
   ]
  },
  {
   "cell_type": "code",
   "execution_count": null,
   "metadata": {},
   "outputs": [],
   "source": [
    "mean + 3 *standard --- "
   ]
  }
 ],
 "metadata": {
  "kernelspec": {
   "display_name": "Python 3",
   "language": "python",
   "name": "python3"
  },
  "language_info": {
   "codemirror_mode": {
    "name": "ipython",
    "version": 3
   },
   "file_extension": ".py",
   "mimetype": "text/x-python",
   "name": "python",
   "nbconvert_exporter": "python",
   "pygments_lexer": "ipython3",
   "version": "3.8.3"
  }
 },
 "nbformat": 4,
 "nbformat_minor": 1
}
